{
 "cells": [
  {
   "cell_type": "code",
   "execution_count": 1,
   "metadata": {},
   "outputs": [
    {
     "name": "stderr",
     "output_type": "stream",
     "text": [
      "I0608 17:10:40.846546 4484386240 file_utils.py:39] PyTorch version 1.5.0 available.\n",
      "I0608 17:10:44.493132 4484386240 file_utils.py:55] TensorFlow version 2.0.0-beta1 available.\n"
     ]
    },
    {
     "data": {
      "text/plain": [
       "<torch._C.Generator at 0x1065a16f0>"
      ]
     },
     "execution_count": 1,
     "metadata": {},
     "output_type": "execute_result"
    }
   ],
   "source": [
    "import torch\n",
    "\n",
    "import random\n",
    "import numpy as np\n",
    "import pandas as pd\n",
    "import torch.nn as nn\n",
    "import torch.optim as optim\n",
    "from torch.utils import data\n",
    "from transformers import DistilBertTokenizer, DistilBertModel\n",
    "from sklearn.metrics import f1_score, roc_auc_score\n",
    "\n",
    "SEED = 1234\n",
    "\n",
    "random.seed(SEED)\n",
    "np.random.seed(SEED)\n",
    "torch.manual_seed(SEED)"
   ]
  },
  {
   "cell_type": "code",
   "execution_count": 3,
   "metadata": {},
   "outputs": [],
   "source": [
    "df = pd.read_csv(\"../data/training_data/data1.csv\", sep=\",\")\n",
    "\n",
    "for i in range(2, 11):\n",
    "    if i != 3:\n",
    "        filename = \"../data/training_data/data\" + str(i) + \".csv\"\n",
    "        df = df.append(pd.read_csv(filename, sep=\",\"))\n",
    "import math\n",
    "\n",
    "df = df.sample(frac=1)\n",
    "\n",
    "train_num = math.ceil(0.7 * len(df))\n",
    "valid_num = math.ceil(0.9 * len(df))\n",
    "train_data = df.iloc[:train_num, :].reset_index()\n",
    "valid_data = df.iloc[train_num:valid_num, :].reset_index()\n",
    "test_data = df.iloc[valid_num:, :].reset_index()"
   ]
  },
  {
   "cell_type": "code",
   "execution_count": 8,
   "metadata": {},
   "outputs": [
    {
     "data": {
      "text/html": [
       "<div>\n",
       "<style scoped>\n",
       "    .dataframe tbody tr th:only-of-type {\n",
       "        vertical-align: middle;\n",
       "    }\n",
       "\n",
       "    .dataframe tbody tr th {\n",
       "        vertical-align: top;\n",
       "    }\n",
       "\n",
       "    .dataframe thead th {\n",
       "        text-align: right;\n",
       "    }\n",
       "</style>\n",
       "<table border=\"1\" class=\"dataframe\">\n",
       "  <thead>\n",
       "    <tr style=\"text-align: right;\">\n",
       "      <th></th>\n",
       "      <th>Unnamed: 0</th>\n",
       "      <th>tweet_id</th>\n",
       "      <th>sentiment</th>\n",
       "      <th>text</th>\n",
       "    </tr>\n",
       "  </thead>\n",
       "  <tbody>\n",
       "    <tr>\n",
       "      <th>1834</th>\n",
       "      <td>1834</td>\n",
       "      <td>6.244020e+17</td>\n",
       "      <td>positive</td>\n",
       "      <td>A great crowd of nearly 6,000 enjoyed National...</td>\n",
       "    </tr>\n",
       "    <tr>\n",
       "      <th>7119</th>\n",
       "      <td>7119</td>\n",
       "      <td>1.187997e+17</td>\n",
       "      <td>neutral</td>\n",
       "      <td>Andy Rooney, 92, will make last appearance on ...</td>\n",
       "    </tr>\n",
       "    <tr>\n",
       "      <th>14328</th>\n",
       "      <td>14328</td>\n",
       "      <td>6.407009e+17</td>\n",
       "      <td>neutral</td>\n",
       "      <td>[someone] are you going over auntie nicki's to...</td>\n",
       "    </tr>\n",
       "    <tr>\n",
       "      <th>9429</th>\n",
       "      <td>9429</td>\n",
       "      <td>2.640793e+17</td>\n",
       "      <td>neutral</td>\n",
       "      <td>i may or may not be obsessed with Poetic Justice.</td>\n",
       "    </tr>\n",
       "    <tr>\n",
       "      <th>7033</th>\n",
       "      <td>7033</td>\n",
       "      <td>6.345089e+17</td>\n",
       "      <td>negative</td>\n",
       "      <td>Caitlyn Jenner may be charged with manslaughte...</td>\n",
       "    </tr>\n",
       "  </tbody>\n",
       "</table>\n",
       "</div>"
      ],
      "text/plain": [
       "       Unnamed: 0      tweet_id sentiment  \\\n",
       "1834         1834  6.244020e+17  positive   \n",
       "7119         7119  1.187997e+17   neutral   \n",
       "14328       14328  6.407009e+17   neutral   \n",
       "9429         9429  2.640793e+17   neutral   \n",
       "7033         7033  6.345089e+17  negative   \n",
       "\n",
       "                                                    text  \n",
       "1834   A great crowd of nearly 6,000 enjoyed National...  \n",
       "7119   Andy Rooney, 92, will make last appearance on ...  \n",
       "14328  [someone] are you going over auntie nicki's to...  \n",
       "9429   i may or may not be obsessed with Poetic Justice.  \n",
       "7033   Caitlyn Jenner may be charged with manslaughte...  "
      ]
     },
     "execution_count": 8,
     "metadata": {},
     "output_type": "execute_result"
    }
   ],
   "source": [
    "df.head()"
   ]
  },
  {
   "cell_type": "code",
   "execution_count": 4,
   "metadata": {},
   "outputs": [
    {
     "name": "stdout",
     "output_type": "stream",
     "text": [
      "tensor([0.1568, 0.4639, 0.3793])\n"
     ]
    }
   ],
   "source": [
    "num_positive = (df[\"sentiment\"] == \"positive\").sum()\n",
    "num_negative = (df[\"sentiment\"] == \"negative\").sum()\n",
    "num_neutral = (df[\"sentiment\"] == \"neutral\").sum()\n",
    "\n",
    "args[\"weight\"] = torch.tensor([num_negative / len(df), num_neutral / len(df), num_positive / len(df)], dtype=torch.float32)\n",
    "\n",
    "print(args[\"weight\"])"
   ]
  },
  {
   "cell_type": "code",
   "execution_count": 5,
   "metadata": {},
   "outputs": [
    {
     "name": "stderr",
     "output_type": "stream",
     "text": [
      "I0608 17:11:41.010191 4484386240 tokenization_utils.py:1022] loading file https://s3.amazonaws.com/models.huggingface.co/bert/bert-base-uncased-vocab.txt from cache at /Users/raina/.cache/torch/transformers/26bc1ad6c0ac742e9b52263248f6d0f00068293b33709fae12320c0e35ccfbbb.542ce4285a40d23a559526243235df47c5f75c197f04f37d1a0c124c32c9a084\n"
     ]
    }
   ],
   "source": [
    "tokenizer = DistilBertTokenizer.from_pretrained('distilbert-base-uncased')"
   ]
  },
  {
   "cell_type": "code",
   "execution_count": 6,
   "metadata": {},
   "outputs": [],
   "source": [
    "tokenized_train = train_data['text'].apply((\n",
    "    lambda x: tokenizer.encode(x, add_special_tokens=True)))\n",
    "tokenized_valid = valid_data['text'].apply((\n",
    "    lambda x: tokenizer.encode(x, add_special_tokens=True)))\n",
    "tokenized_test = test_data['text'].apply((\n",
    "    lambda x: tokenizer.encode(x, add_special_tokens=True)))"
   ]
  },
  {
   "cell_type": "code",
   "execution_count": 7,
   "metadata": {},
   "outputs": [],
   "source": [
    "def get_max_len(tokenized):\n",
    "    max_len = 0\n",
    "    for i in tokenized.values:\n",
    "        if len(i) > max_len:\n",
    "            max_len = len(i)\n",
    "    return max_len"
   ]
  },
  {
   "cell_type": "code",
   "execution_count": null,
   "metadata": {},
   "outputs": [],
   "source": []
  }
 ],
 "metadata": {
  "kernelspec": {
   "display_name": "Python 3",
   "language": "python",
   "name": "python3"
  },
  "language_info": {
   "codemirror_mode": {
    "name": "ipython",
    "version": 3
   },
   "file_extension": ".py",
   "mimetype": "text/x-python",
   "name": "python",
   "nbconvert_exporter": "python",
   "pygments_lexer": "ipython3",
   "version": "3.6.6"
  }
 },
 "nbformat": 4,
 "nbformat_minor": 2
}
