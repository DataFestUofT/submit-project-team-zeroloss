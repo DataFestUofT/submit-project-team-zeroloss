{
 "cells": [
  {
   "cell_type": "code",
   "execution_count": 1,
   "metadata": {},
   "outputs": [],
   "source": [
    "import pandas as pd"
   ]
  },
  {
   "cell_type": "code",
   "execution_count": 2,
   "metadata": {},
   "outputs": [
    {
     "name": "stderr",
     "output_type": "stream",
     "text": [
      "/Library/Python/3.7/site-packages/IPython/core/interactiveshell.py:3063: DtypeWarning: Columns (20) have mixed types. Specify dtype option on import or set low_memory=False.\n",
      "  interactivity=interactivity, compiler=compiler, result=result)\n"
     ]
    }
   ],
   "source": [
    "data = pd.read_csv(\"./final_data/processed.csv\")"
   ]
  },
  {
   "cell_type": "code",
   "execution_count": 3,
   "metadata": {},
   "outputs": [
    {
     "data": {
      "text/plain": [
       "0              holy shit I hate every person in this video\n",
       "1        There you have it.\\n\\nProof that this is an in...\n",
       "2        Among other things, what this shows is they ar...\n",
       "3                          this incompetent racist asshole\n",
       "4        Among other things, what this shows is they ar...\n",
       "                               ...                        \n",
       "52337    COVID-19 has a 2-14 day incubation period. If ...\n",
       "52338    First they burned down our economy, impoverish...\n",
       "52339    Fears about COVID-19 can take an emotional tol...\n",
       "52340                                Not the seafood tho 😂\n",
       "52341    I said Nick Cannon has Lupus and is still prot...\n",
       "Name: expanded_text, Length: 52342, dtype: object"
      ]
     },
     "execution_count": 3,
     "metadata": {},
     "output_type": "execute_result"
    }
   ],
   "source": [
    "data[\"expanded_text\"]"
   ]
  },
  {
   "cell_type": "code",
   "execution_count": 4,
   "metadata": {},
   "outputs": [
    {
     "data": {
      "text/plain": [
       "'game is on fire fire'"
      ]
     },
     "execution_count": 4,
     "metadata": {},
     "output_type": "execute_result"
    }
   ],
   "source": [
    "import emoji\n",
    "text = \"game is on 🔥 🔥\"\n",
    "emoji.demojize(text, delimiters=(\"\", \"\"))"
   ]
  },
  {
   "cell_type": "code",
   "execution_count": 6,
   "metadata": {},
   "outputs": [],
   "source": [
    "# from tqdm import tqdm\n",
    "# for i in tqdm(range(len(data[\"expanded_text\"]))):\n",
    "#     data[\"expanded_text\"][i] = emoji.demojize(data[\"expanded_text\"][i], delimiters=(\"\", \"\"))\n",
    "    \n",
    "def demojilizer(text):\n",
    "    emoji_replaced = emoji.demojize(text, delimiters=(\"\", \"\"))\n",
    "    return emoji_replaced.replace(\"_\", \" \")\n",
    "\n",
    "data[\"expanded_text\"] = data[\"expanded_text\"].map(demojilizer)"
   ]
  },
  {
   "cell_type": "code",
   "execution_count": 7,
   "metadata": {},
   "outputs": [
    {
     "data": {
      "text/plain": [
       "0              holy shit I hate every person in this video\n",
       "1        There you have it.\\n\\nProof that this is an in...\n",
       "2        Among other things, what this shows is they ar...\n",
       "3                          this incompetent racist asshole\n",
       "4        Among other things, what this shows is they ar...\n",
       "                               ...                        \n",
       "52337    COVID-19 has a 2-14 day incubation period. If ...\n",
       "52338    First they burned down our economy, impoverish...\n",
       "52339    Fears about COVID-19 can take an emotional tol...\n",
       "52340           Not the seafood tho face with tears of joy\n",
       "52341    I said Nick Cannon has Lupus and is still prot...\n",
       "Name: expanded_text, Length: 52342, dtype: object"
      ]
     },
     "execution_count": 7,
     "metadata": {},
     "output_type": "execute_result"
    }
   ],
   "source": [
    "data[\"expanded_text\"]"
   ]
  },
  {
   "cell_type": "code",
   "execution_count": 8,
   "metadata": {},
   "outputs": [],
   "source": [
    "data.to_csv(\"./final_data/processed.csv\")"
   ]
  },
  {
   "cell_type": "code",
   "execution_count": null,
   "metadata": {},
   "outputs": [],
   "source": []
  }
 ],
 "metadata": {
  "kernelspec": {
   "display_name": "Python 3.7.3 64-bit",
   "language": "python",
   "name": "python37364bit90982e7f4b014fa3beccbd32e1b2d90e"
  },
  "language_info": {
   "codemirror_mode": {
    "name": "ipython",
    "version": 3
   },
   "file_extension": ".py",
   "mimetype": "text/x-python",
   "name": "python",
   "nbconvert_exporter": "python",
   "pygments_lexer": "ipython3",
   "version": "3.7.3"
  },
  "latex_envs": {
   "LaTeX_envs_menu_present": true,
   "autoclose": false,
   "autocomplete": true,
   "bibliofile": "biblio.bib",
   "cite_by": "apalike",
   "current_citInitial": 1,
   "eqLabelWithNumbers": true,
   "eqNumInitial": 1,
   "hotkeys": {
    "equation": "Ctrl-E",
    "itemize": "Ctrl-I"
   },
   "labels_anchors": false,
   "latex_user_defs": false,
   "report_style_numbering": false,
   "user_envs_cfg": false
  },
  "varInspector": {
   "cols": {
    "lenName": 16,
    "lenType": 16,
    "lenVar": 40
   },
   "kernels_config": {
    "python": {
     "delete_cmd_postfix": "",
     "delete_cmd_prefix": "del ",
     "library": "var_list.py",
     "varRefreshCmd": "print(var_dic_list())"
    },
    "r": {
     "delete_cmd_postfix": ") ",
     "delete_cmd_prefix": "rm(",
     "library": "var_list.r",
     "varRefreshCmd": "cat(var_dic_list()) "
    }
   },
   "types_to_exclude": [
    "module",
    "function",
    "builtin_function_or_method",
    "instance",
    "_Feature"
   ],
   "window_display": false
  }
 },
 "nbformat": 4,
 "nbformat_minor": 4
}
