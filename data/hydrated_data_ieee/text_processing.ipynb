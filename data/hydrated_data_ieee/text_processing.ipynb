{
 "cells": [
  {
   "cell_type": "code",
   "execution_count": 1,
   "metadata": {},
   "outputs": [],
   "source": [
    "from bs4 import BeautifulSoup\n",
    "import spacy\n",
    "import unidecode\n",
    "from word2number import w2n\n",
    "from pycontractions import Contractions\n",
    "import gensim.downloader as api\n",
    "import pandas as pd"
   ]
  },
  {
   "cell_type": "code",
   "execution_count": 2,
   "metadata": {},
   "outputs": [
    {
     "name": "stdout",
     "output_type": "stream",
     "text": [
      "loaded en_core_web_md\n"
     ]
    }
   ],
   "source": [
    "nlp = spacy.load('en_core_web_md')\n",
    "print(\"loaded en_core_web_md\")"
   ]
  },
  {
   "cell_type": "code",
   "execution_count": 3,
   "metadata": {},
   "outputs": [
    {
     "name": "stdout",
     "output_type": "stream",
     "text": [
      "loaded api model\n"
     ]
    }
   ],
   "source": [
    "model = api.load(\"glove-twitter-25\")\n",
    "print(\"loaded api model\")"
   ]
  },
  {
   "cell_type": "code",
   "execution_count": 4,
   "metadata": {},
   "outputs": [],
   "source": [
    "# exclude words from spacy stopwords list\n",
    "deselect_stop_words = ['no', 'not']\n",
    "for w in deselect_stop_words:\n",
    "    nlp.vocab[w].is_stop = False\n",
    "cont = Contractions(kv_model=model)\n",
    "cont.load_models()"
   ]
  },
  {
   "cell_type": "code",
   "execution_count": 48,
   "metadata": {},
   "outputs": [
    {
     "name": "stderr",
     "output_type": "stream",
     "text": [
      "/Library/Frameworks/Python.framework/Versions/3.6/lib/python3.6/site-packages/IPython/core/interactiveshell.py:2785: DtypeWarning: Columns (19) have mixed types. Specify dtype option on import or set low_memory=False.\n",
      "  interactivity=interactivity, compiler=compiler, result=result)\n"
     ]
    }
   ],
   "source": [
    "data = pd.read_csv(\"hydrated_data_ieee/cleaned_data.csv\")"
   ]
  },
  {
   "cell_type": "code",
   "execution_count": 49,
   "metadata": {},
   "outputs": [
    {
     "data": {
      "text/plain": [
       "['CDC just announced that corona can be spread via Instagram story challenges :-/',\n",
       " 'CDC just announced that corona can be spread via Instagram story challenges :-/',\n",
       " \"ain't no cure for ‘stupid'\",\n",
       " \"This Where I'm At Until This Corona shit Ova Wit\\n\\nNiagara County Jail\\nP.O. Box 496\\n5526 Niagara Street ext.\\nLockport, NY…\",\n",
       " \"Just wanted to throw this out there....Wear gloves when pumping gas😳\\n\\nWe already have to deal with Corona😷....I don't want…\"]"
      ]
     },
     "execution_count": 49,
     "metadata": {},
     "output_type": "execute_result"
    }
   ],
   "source": [
    "list(data['text'])[4395:4400]"
   ]
  },
  {
   "cell_type": "code",
   "execution_count": 52,
   "metadata": {},
   "outputs": [],
   "source": [
    "data['expanded_text'] = list(cont.expand_texts(list(data['text']), precise=True))"
   ]
  },
  {
   "cell_type": "code",
   "execution_count": 53,
   "metadata": {},
   "outputs": [
    {
     "data": {
      "text/plain": [
       "0              holy shit I hate every person in this video\n",
       "1        There you have it.\\n\\nProof that this is an in...\n",
       "2        Among other things, what this shows is they ar...\n",
       "3                          this incompetent racist asshole\n",
       "4        Among other things, what this shows is they ar...\n",
       "5        [someone] Tacking on Chinese is just redundant...\n",
       "6        this is my shocked face that paying big money ...\n",
       "7                  Corona please. We are tired, we get it.\n",
       "8          Interviewing a bottle of hand sanitizer in 2020\n",
       "9        This is Generation Z. \\n\\nI want to name that ...\n",
       "10       Black People When They Get Their Corona Virus ...\n",
       "11       OMG!  Trump's notes from today's press briefin...\n",
       "12             holy shit I hate every person in this video\n",
       "13                  first guy just sounds like ricky banks\n",
       "14                            Sharing this because corona \n",
       "15                       this man's piss could stop corona\n",
       "16       As speechwriters, we have some edits for [some...\n",
       "17       I am not sitting here locked in my house eatin...\n",
       "18                                      Crown = Corona\\n\\n\n",
       "19       Close Up Photo of Trump's Notes Shows He Cross...\n",
       "20             holy shit I hate every person in this video\n",
       "21       Close Up Photo of Trump's Notes Shows He Cross...\n",
       "22       Close up of President [someone] notes is seen ...\n",
       "23       A society of adults that do not believe human ...\n",
       "24                               \"Meat in general i hope.\"\n",
       "25       I cannot wait for the day this racist pig of a...\n",
       "26             it just feels like Sunday again and...again\n",
       "27                                   could not agree more.\n",
       "28       he is not going to stare at the instructor he ...\n",
       "29       Clueless was not exactly my first word to desc...\n",
       "                               ...                        \n",
       "52312    Spoke to a small restaurant owner today in LA....\n",
       "52313    Wow. This is NPR. So that means they are not h...\n",
       "52314                       [someone] Covid-19, obviously.\n",
       "52315    Police taking a knee during #DCProtests. Prett...\n",
       "52316    The president in a bunker tweeting words that ...\n",
       "52317    This is going to make it incredibly tough on t...\n",
       "52318    in two weeks we are either going to have a shi...\n",
       "52319    in two weeks we are either going to have a shi...\n",
       "52320    Some of you are risking getting COVID throwing...\n",
       "52321    Our preprint on COVID-19 compared to influenza...\n",
       "52322    For people in countries protesting in solidari...\n",
       "52323    [someone] If it was not for Covid and his citi...\n",
       "52324    For people in countries protesting in solidari...\n",
       "52325                          When KARMA Replies you back\n",
       "52326    103-year-old woman celebrates beating Covid-19...\n",
       "52327    Who is making these decisions? Our families re...\n",
       "52328    when covid came w warning, the US did not have...\n",
       "52329    This is basically a free for all now..just rob...\n",
       "52330    [someone] CDC admitted COVID-19 mortality rate...\n",
       "52331    la is closing covid-19 testing centers to puni...\n",
       "52332    unfolding simultaneously in the US... And Trum...\n",
       "52333                it is halftime. Racism is performing.\n",
       "52334    true love is when your pets know your sad and ...\n",
       "52335    All these choppers in the air, but Chicago cou...\n",
       "52336    U.S. security forces pulling anti-COVID19 face...\n",
       "52337    COVID-19 has a 2-14 day incubation period. If ...\n",
       "52338    First they burned down our economy, impoverish...\n",
       "52339    Fears about COVID-19 can take an emotional tol...\n",
       "52340                                Not the seafood tho 😂\n",
       "52341    I said Nick Cannon has Lupus and is still prot...\n",
       "Name: expanded_text, Length: 52342, dtype: object"
      ]
     },
     "execution_count": 53,
     "metadata": {},
     "output_type": "execute_result"
    }
   ],
   "source": [
    "data['expanded_text']"
   ]
  },
  {
   "cell_type": "code",
   "execution_count": 54,
   "metadata": {},
   "outputs": [],
   "source": [
    "data.to_csv(\"processed_data.csv\")"
   ]
  },
  {
   "cell_type": "code",
   "execution_count": null,
   "metadata": {},
   "outputs": [],
   "source": []
  }
 ],
 "metadata": {
  "kernelspec": {
   "display_name": "Python 3",
   "language": "python",
   "name": "python3"
  },
  "language_info": {
   "codemirror_mode": {
    "name": "ipython",
    "version": 3
   },
   "file_extension": ".py",
   "mimetype": "text/x-python",
   "name": "python",
   "nbconvert_exporter": "python",
   "pygments_lexer": "ipython3",
   "version": "3.6.6"
  }
 },
 "nbformat": 4,
 "nbformat_minor": 2
}
